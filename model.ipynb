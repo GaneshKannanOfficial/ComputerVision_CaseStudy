{
 "cells": [
  {
   "cell_type": "code",
   "execution_count": 4,
   "metadata": {},
   "outputs": [
    {
     "name": "stdout",
     "output_type": "stream",
     "text": [
      "Epoch 1/10\n",
      "1/1 [==============================] - 1s 973ms/step - loss: 0.6943 - accuracy: 0.4167 - val_loss: 0.6339 - val_accuracy: 0.7500\n",
      "Epoch 2/10\n",
      "1/1 [==============================] - 0s 107ms/step - loss: 0.3190 - accuracy: 1.0000 - val_loss: 0.7736 - val_accuracy: 0.5000\n",
      "Epoch 3/10\n",
      "1/1 [==============================] - 0s 109ms/step - loss: 0.0505 - accuracy: 1.0000 - val_loss: 1.0860 - val_accuracy: 0.5000\n",
      "Epoch 4/10\n",
      "1/1 [==============================] - 0s 109ms/step - loss: 0.0051 - accuracy: 1.0000 - val_loss: 1.4528 - val_accuracy: 0.5000\n",
      "Epoch 5/10\n",
      "1/1 [==============================] - 0s 109ms/step - loss: 4.8017e-04 - accuracy: 1.0000 - val_loss: 1.8454 - val_accuracy: 0.5000\n",
      "Epoch 6/10\n",
      "1/1 [==============================] - 0s 111ms/step - loss: 4.8224e-05 - accuracy: 1.0000 - val_loss: 2.2411 - val_accuracy: 0.5000\n",
      "Epoch 7/10\n",
      "1/1 [==============================] - 0s 125ms/step - loss: 5.4255e-06 - accuracy: 1.0000 - val_loss: 2.6255 - val_accuracy: 0.5000\n",
      "Epoch 8/10\n",
      "1/1 [==============================] - 0s 110ms/step - loss: 6.8741e-07 - accuracy: 1.0000 - val_loss: 2.9947 - val_accuracy: 0.5000\n",
      "Epoch 9/10\n",
      "1/1 [==============================] - 0s 109ms/step - loss: 9.8124e-08 - accuracy: 1.0000 - val_loss: 3.3467 - val_accuracy: 0.5000\n",
      "Epoch 10/10\n",
      "1/1 [==============================] - 0s 109ms/step - loss: 1.5801e-08 - accuracy: 1.0000 - val_loss: 3.6797 - val_accuracy: 0.5000\n"
     ]
    },
    {
     "data": {
      "text/plain": [
       "<keras.src.callbacks.History at 0x1be308ed450>"
      ]
     },
     "execution_count": 4,
     "metadata": {},
     "output_type": "execute_result"
    }
   ],
   "source": [
    "from tensorflow.keras.models import Sequential\n",
    "from tensorflow.keras.layers import Conv2D, MaxPooling2D, Flatten, Dense\n",
    "import cv2\n",
    "import numpy as np\n",
    "import os\n",
    "from sklearn.model_selection import train_test_split\n",
    "from tensorflow.keras.utils import normalize\n",
    "\n",
    "new_width, new_height = 128, 128  \n",
    "\n",
    "def preprocess_image(image_path, new_width=128, new_height=128):\n",
    "    image = cv2.imread(image_path, cv2.IMREAD_GRAYSCALE)\n",
    "    blurred_image = cv2.GaussianBlur(image, (5, 5), 0)\n",
    "    _, binary_image = cv2.threshold(blurred_image, 127, 255, cv2.THRESH_BINARY)\n",
    "    kernel = cv2.getStructuringElement(cv2.MORPH_RECT, (5, 5))\n",
    "    closed_image = cv2.morphologyEx(binary_image, cv2.MORPH_CLOSE, kernel)\n",
    "    resized_closed_image = cv2.resize(closed_image, (new_width, new_height))\n",
    "    edges = cv2.Canny(resized_closed_image, 100, 200)\n",
    "    edges_colored = cv2.cvtColor(edges, cv2.COLOR_GRAY2BGR)  \n",
    "    return edges_colored\n",
    "\n",
    "def load_dataset(folder_path, label, new_width=128, new_height=128):\n",
    "    images = []\n",
    "    labels = []\n",
    "    for filename in os.listdir(folder_path):\n",
    "        if filename.endswith(\".jpg\"): \n",
    "            image_path = os.path.join(folder_path, filename)\n",
    "            processed_image = preprocess_image(image_path, new_width, new_height)\n",
    "            images.append(processed_image)\n",
    "            labels.append(label)\n",
    "    return images, labels\n",
    "\n",
    "cheat_path = r\"D:\\CV_DATASETS\\cheat\"\n",
    "non_cheat_path = r\"D:\\CV_DATASETS\\noncheat\"\n",
    "\n",
    "cheat_images, cheat_labels = load_dataset(cheat_path, 1)  \n",
    "non_cheat_images, non_cheat_labels = load_dataset(non_cheat_path, 0) \n",
    "\n",
    "X = np.array(cheat_images + non_cheat_images, dtype='float32')\n",
    "y = np.array(cheat_labels + non_cheat_labels)\n",
    "\n",
    "X = normalize(X, axis=1)\n",
    "\n",
    "X_train, X_test, y_train, y_test = train_test_split(X, y, test_size=0.2, random_state=42)\n",
    "\n",
    "model = Sequential([\n",
    "    Conv2D(32, (3, 3), activation='relu', input_shape=(new_height, new_width, 3)),\n",
    "    MaxPooling2D((2, 2)),\n",
    "    Conv2D(64, (3, 3), activation='relu'),\n",
    "    MaxPooling2D((2, 2)),\n",
    "    Flatten(),\n",
    "    Dense(64, activation='relu'),\n",
    "    Dense(1, activation='sigmoid')\n",
    "])\n",
    "\n",
    "model.compile(optimizer='adam', loss='binary_crossentropy', metrics=['accuracy'])\n",
    "\n",
    "model.fit(X_train, y_train, epochs=10, validation_data=(X_test, y_test))"
   ]
  },
  {
   "cell_type": "code",
   "execution_count": 5,
   "metadata": {},
   "outputs": [],
   "source": [
    "\n",
    "new_image_path = r\"D:\\CV_DATASETS\\noncheat\\Screenshot 2024-02-22 022608.jpg\"\n",
    "\n",
    "new_image_processed = preprocess_image(new_image_path, new_width=128, new_height=128)\n",
    "\n",
    "new_image_processed_expanded = np.expand_dims(new_image_processed, axis=0)\n"
   ]
  },
  {
   "cell_type": "code",
   "execution_count": 6,
   "metadata": {},
   "outputs": [
    {
     "name": "stdout",
     "output_type": "stream",
     "text": [
      "1/1 [==============================] - 0s 92ms/step\n",
      "The image is classified as non-cheat.\n"
     ]
    }
   ],
   "source": [
    "prediction = model.predict(new_image_processed_expanded)\n",
    "\n",
    "predicted_class = (prediction > 0.5).astype(\"int32\")\n",
    "\n",
    "if predicted_class == 0:\n",
    "    print(\"The image is classified as non-cheat.\")\n",
    "else:\n",
    "    print(\"The image is classified as cheat.\")\n"
   ]
  }
 ],
 "metadata": {
  "kernelspec": {
   "display_name": "base",
   "language": "python",
   "name": "python3"
  },
  "language_info": {
   "codemirror_mode": {
    "name": "ipython",
    "version": 3
   },
   "file_extension": ".py",
   "mimetype": "text/x-python",
   "name": "python",
   "nbconvert_exporter": "python",
   "pygments_lexer": "ipython3",
   "version": "3.11.3"
  }
 },
 "nbformat": 4,
 "nbformat_minor": 2
}
